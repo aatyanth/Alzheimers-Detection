{
 "cells": [
  {
   "cell_type": "code",
   "execution_count": 1,
   "metadata": {},
   "outputs": [],
   "source": [
    "import os\n",
    "import pandas as pd\n",
    "import numpy as np\n",
    "import random"
   ]
  },
  {
   "cell_type": "code",
   "execution_count": null,
   "metadata": {},
   "outputs": [],
   "source": [
    "# Participants in Dementia class\n",
    "\n",
    "dementia_image_paths = os.listdir('/Users/aatyanth/COGS181/Data/Dementia')\n",
    "print(dementia_image_paths[0:5])\n",
    "\n",
    "participants_dementia = []\n",
    "for path in dementia_image_paths:\n",
    "    if 'Store' in path:\n",
    "        continue\n",
    "    if path.split('_')[1] not in participants_dementia:\n",
    "        participants_dementia.append(path.split('_')[1])\n",
    "print(participants_dementia)"
   ]
  },
  {
   "cell_type": "code",
   "execution_count": null,
   "metadata": {},
   "outputs": [],
   "source": [
    "# Participants in No Dementia class\n",
    "\n",
    "no_dementia_image_paths = os.listdir('/Users/aatyanth/COGS181/Data/No_Dementia')\n",
    "\n",
    "print(no_dementia_image_paths[0 : 5])\n",
    "\n",
    "participants_no_dementia = []\n",
    "\n",
    "for path in no_dementia_image_paths:\n",
    "    if path.split('_')[1] not in participants_no_dementia:\n",
    "        participants_no_dementia.append(path.split('_')[1])\n",
    "\n",
    "print(participants_no_dementia)"
   ]
  },
  {
   "cell_type": "code",
   "execution_count": null,
   "metadata": {},
   "outputs": [],
   "source": [
    "# Create a dataframe to represent the data\n",
    "patient_ids = []\n",
    "class_labels = []\n",
    "image_paths = []\n",
    "prefix = '/Data/Dementia/'\n",
    "\n",
    "for path in dementia_image_paths:\n",
    "    patient_id = path.split('_')[1]\n",
    "    if patient_id not in patient_ids:\n",
    "        patient_subset = [path for path in dementia_image_paths if path.split('_')[1] == patient_id]\n",
    "        chosen = random.choices(patient_subset, k=16)\n",
    "        for p in chosen:\n",
    "            image_paths.append(prefix + p)\n",
    "        for i in range(16):\n",
    "            patient_ids.append(patient_id)\n",
    "            class_labels.append(1)\n",
    "    else:\n",
    "        continue\n",
    "    \n",
    "\n",
    "prefix = '/Data/No_Dementia'\n",
    "tracker = 0\n",
    "for path in no_dementia_image_paths:\n",
    "    patient_id = path.split('_')[1]\n",
    "    if patient_id not in patient_ids:\n",
    "        patient_subset = [path for path in no_dementia_image_paths if path.split('_')[1] == patient_id]\n",
    "        chosen = random.choices(patient_subset, k=16)\n",
    "        tracker += 1\n",
    "        if tracker > 81:\n",
    "            break\n",
    "        for p in chosen:\n",
    "            image_paths.append(prefix + p)\n",
    "        for i in range(16):\n",
    "            patient_ids.append(patient_id)\n",
    "            class_labels.append(0)\n",
    "    else:\n",
    "        continue"
   ]
  },
  {
   "cell_type": "code",
   "execution_count": null,
   "metadata": {},
   "outputs": [],
   "source": [
    "df = pd.DataFrame([patient_ids, image_paths, class_labels]).transpose()\n",
    "df.columns = ['patient_id', 'image_path', 'class_label']\n",
    "df"
   ]
  },
  {
   "cell_type": "code",
   "execution_count": null,
   "metadata": {},
   "outputs": [],
   "source": [
    "# # participants to be used in the train dataset\n",
    "# train_indices = []\n",
    "\n",
    "# train_indices.append(random.sample(participants_dementia, k=4))\n",
    "# train_indices.append(random.sample(participants_no_dementia, k=4))\n"
   ]
  },
  {
   "cell_type": "code",
   "execution_count": null,
   "metadata": {},
   "outputs": [],
   "source": [
    "\n",
    "print('Participants from Dementia class: ', train_indices[0])\n",
    "print('Participants from No Dementia class: ', train_indices[1])\n",
    "print(train_indices)"
   ]
  },
  {
   "cell_type": "markdown",
   "metadata": {},
   "source": [
    "# Multiclass Classification"
   ]
  },
  {
   "cell_type": "code",
   "execution_count": 8,
   "metadata": {},
   "outputs": [
    {
     "ename": "FileNotFoundError",
     "evalue": "[Errno 2] No such file or directory: '/Users/aatyanth/COGS181/data_multiclass_classification/No_Dementia'",
     "output_type": "error",
     "traceback": [
      "\u001b[0;31m---------------------------------------------------------------------------\u001b[0m",
      "\u001b[0;31mFileNotFoundError\u001b[0m                         Traceback (most recent call last)",
      "Cell \u001b[0;32mIn[8], line 1\u001b[0m\n\u001b[0;32m----> 1\u001b[0m no_dementia_image_paths \u001b[38;5;241m=\u001b[39m \u001b[43mos\u001b[49m\u001b[38;5;241;43m.\u001b[39;49m\u001b[43mlistdir\u001b[49m\u001b[43m(\u001b[49m\u001b[38;5;124;43m'\u001b[39;49m\u001b[38;5;124;43m/Users/aatyanth/COGS181/data_multiclass_classification/No_Dementia\u001b[39;49m\u001b[38;5;124;43m'\u001b[39;49m\u001b[43m)\u001b[49m\n\u001b[1;32m      2\u001b[0m mild_dementia_image_paths \u001b[38;5;241m=\u001b[39m os\u001b[38;5;241m.\u001b[39mlistdir(\u001b[38;5;124m'\u001b[39m\u001b[38;5;124m/Users/aatyanth/COGS181/data_multiclass_classification/Mild_Dementia\u001b[39m\u001b[38;5;124m'\u001b[39m)\n\u001b[1;32m      3\u001b[0m advanced_dementia_image_paths \u001b[38;5;241m=\u001b[39m os\u001b[38;5;241m.\u001b[39mlistdir(\u001b[38;5;124m'\u001b[39m\u001b[38;5;124m/Users/aatyanth/COGS181/data_multiclass_classification/Advanced_Dementia\u001b[39m\u001b[38;5;124m'\u001b[39m)\n",
      "\u001b[0;31mFileNotFoundError\u001b[0m: [Errno 2] No such file or directory: '/Users/aatyanth/COGS181/data_multiclass_classification/No_Dementia'"
     ]
    }
   ],
   "source": [
    "no_dementia_image_paths = os.listdir('/Users/aatyanth/COGS181/data_multiclass_classification/No_Dementia')\n",
    "mild_dementia_image_paths = os.listdir('/Users/aatyanth/COGS181/data_multiclass_classification/Mild_Dementia')\n",
    "advanced_dementia_image_paths = os.listdir('/Users/aatyanth/COGS181/data_multiclass_classification/Advanced_Dementia')\n",
    "\n",
    "no_dementia_participants = []\n",
    "for path in no_dementia_image_paths:\n",
    "    if 'Store' in path:\n",
    "        continue\n",
    "    if path.split('_')[1] not in no_dementia_participants:\n",
    "        no_dementia_participants.append(path.split('_')[1])\n",
    "        \n",
    "print(len(no_dementia_participants))\n",
    "        \n",
    "mild_dementia_participants = []\n",
    "for path in mild_dementia_image_paths:\n",
    "    if 'Store' in path:\n",
    "        continue\n",
    "    if path.split('_')[1] not in mild_dementia_participants:\n",
    "        mild_dementia_participants.append(path.split('_')[1])\n",
    "        \n",
    "print(len(mild_dementia_participants))\n",
    "\n",
    "advanced_dementia_participants = []\n",
    "for path in advanced_dementia_image_paths:\n",
    "    if 'Store' in path:\n",
    "        continue\n",
    "    if path.split('_')[1] not in advanced_dementia_participants:\n",
    "        advanced_dementia_participants.append(path.split('_')[1])\n",
    "        \n",
    "print(len(advanced_dementia_participants))"
   ]
  },
  {
   "cell_type": "code",
   "execution_count": 83,
   "metadata": {},
   "outputs": [],
   "source": [
    "# Create a dataframe to represent the data\n",
    "patient_ids = []\n",
    "class_labels = []\n",
    "image_paths = []\n",
    "tracker = 0\n",
    "\n",
    "\n",
    "prefix = '/data_multiclass_classification/Advanced_Dementia/'\n",
    "\n",
    "for path in advanced_dementia_image_paths:\n",
    "    patient_id = path.split('_')[1]\n",
    "    if patient_id not in patient_ids:\n",
    "        patient_subset = [path for path in advanced_dementia_image_paths if path.split('_')[1] == patient_id]\n",
    "        chosen = random.sample(patient_subset, k=18)\n",
    "        tracker += 1\n",
    "        if tracker > 22:\n",
    "            break\n",
    "        for p in chosen:\n",
    "            image_paths.append(prefix + p)\n",
    "        for i in range(18):\n",
    "            patient_ids.append(patient_id)\n",
    "            class_labels.append(2)\n",
    "    else:\n",
    "        continue\n",
    "    \n",
    "\n",
    "prefix = '/data_multiclass_classification/Mild_Dementia/'\n",
    "tracker = 0\n",
    "for path in mild_dementia_image_paths:\n",
    "    patient_id = path.split('_')[1]\n",
    "    if patient_id not in patient_ids:\n",
    "        patient_subset = [path for path in mild_dementia_image_paths if path.split('_')[1] == patient_id]\n",
    "        chosen = random.sample(patient_subset, k=18)\n",
    "        tracker += 1\n",
    "        if tracker > 22:\n",
    "            break\n",
    "        for p in chosen:\n",
    "            image_paths.append(prefix + p)\n",
    "        for i in range(18):\n",
    "            patient_ids.append(patient_id)\n",
    "            class_labels.append(1)\n",
    "    else:\n",
    "        continue\n",
    "    \n",
    "prefix = '/data_multiclass_classification/No_Dementia/'\n",
    "tracker = 0\n",
    "\n",
    "for path in no_dementia_image_paths:\n",
    "    patient_id = path.split('_')[1]\n",
    "    if patient_id not in patient_ids:\n",
    "        patient_subset = [path for path in no_dementia_image_paths if path.split('_')[1] == patient_id]\n",
    "        chosen = random.sample(patient_subset, k=18)\n",
    "        tracker += 1\n",
    "        if tracker > 22:\n",
    "            break\n",
    "        for p in chosen:\n",
    "            image_paths.append(prefix + p)\n",
    "        for i in range(18):\n",
    "            patient_ids.append(patient_id)\n",
    "            class_labels.append(0)\n",
    "    else:\n",
    "        continue"
   ]
  },
  {
   "cell_type": "code",
   "execution_count": 84,
   "metadata": {},
   "outputs": [
    {
     "data": {
      "text/html": [
       "<div>\n",
       "<style scoped>\n",
       "    .dataframe tbody tr th:only-of-type {\n",
       "        vertical-align: middle;\n",
       "    }\n",
       "\n",
       "    .dataframe tbody tr th {\n",
       "        vertical-align: top;\n",
       "    }\n",
       "\n",
       "    .dataframe thead th {\n",
       "        text-align: right;\n",
       "    }\n",
       "</style>\n",
       "<table border=\"1\" class=\"dataframe\">\n",
       "  <thead>\n",
       "    <tr style=\"text-align: right;\">\n",
       "      <th></th>\n",
       "      <th>patient_id</th>\n",
       "      <th>image_path</th>\n",
       "      <th>class_label</th>\n",
       "    </tr>\n",
       "  </thead>\n",
       "  <tbody>\n",
       "    <tr>\n",
       "      <th>0</th>\n",
       "      <td>0308</td>\n",
       "      <td>/data_multiclass_classification/Advanced_Demen...</td>\n",
       "      <td>2</td>\n",
       "    </tr>\n",
       "    <tr>\n",
       "      <th>1</th>\n",
       "      <td>0308</td>\n",
       "      <td>/data_multiclass_classification/Advanced_Demen...</td>\n",
       "      <td>2</td>\n",
       "    </tr>\n",
       "    <tr>\n",
       "      <th>2</th>\n",
       "      <td>0308</td>\n",
       "      <td>/data_multiclass_classification/Advanced_Demen...</td>\n",
       "      <td>2</td>\n",
       "    </tr>\n",
       "    <tr>\n",
       "      <th>3</th>\n",
       "      <td>0308</td>\n",
       "      <td>/data_multiclass_classification/Advanced_Demen...</td>\n",
       "      <td>2</td>\n",
       "    </tr>\n",
       "    <tr>\n",
       "      <th>4</th>\n",
       "      <td>0308</td>\n",
       "      <td>/data_multiclass_classification/Advanced_Demen...</td>\n",
       "      <td>2</td>\n",
       "    </tr>\n",
       "    <tr>\n",
       "      <th>...</th>\n",
       "      <td>...</td>\n",
       "      <td>...</td>\n",
       "      <td>...</td>\n",
       "    </tr>\n",
       "    <tr>\n",
       "      <th>1183</th>\n",
       "      <td>0346</td>\n",
       "      <td>/data_multiclass_classification/No_Dementia/OA...</td>\n",
       "      <td>0</td>\n",
       "    </tr>\n",
       "    <tr>\n",
       "      <th>1184</th>\n",
       "      <td>0346</td>\n",
       "      <td>/data_multiclass_classification/No_Dementia/OA...</td>\n",
       "      <td>0</td>\n",
       "    </tr>\n",
       "    <tr>\n",
       "      <th>1185</th>\n",
       "      <td>0346</td>\n",
       "      <td>/data_multiclass_classification/No_Dementia/OA...</td>\n",
       "      <td>0</td>\n",
       "    </tr>\n",
       "    <tr>\n",
       "      <th>1186</th>\n",
       "      <td>0346</td>\n",
       "      <td>/data_multiclass_classification/No_Dementia/OA...</td>\n",
       "      <td>0</td>\n",
       "    </tr>\n",
       "    <tr>\n",
       "      <th>1187</th>\n",
       "      <td>0346</td>\n",
       "      <td>/data_multiclass_classification/No_Dementia/OA...</td>\n",
       "      <td>0</td>\n",
       "    </tr>\n",
       "  </tbody>\n",
       "</table>\n",
       "<p>1188 rows × 3 columns</p>\n",
       "</div>"
      ],
      "text/plain": [
       "     patient_id                                         image_path class_label\n",
       "0          0308  /data_multiclass_classification/Advanced_Demen...           2\n",
       "1          0308  /data_multiclass_classification/Advanced_Demen...           2\n",
       "2          0308  /data_multiclass_classification/Advanced_Demen...           2\n",
       "3          0308  /data_multiclass_classification/Advanced_Demen...           2\n",
       "4          0308  /data_multiclass_classification/Advanced_Demen...           2\n",
       "...         ...                                                ...         ...\n",
       "1183       0346  /data_multiclass_classification/No_Dementia/OA...           0\n",
       "1184       0346  /data_multiclass_classification/No_Dementia/OA...           0\n",
       "1185       0346  /data_multiclass_classification/No_Dementia/OA...           0\n",
       "1186       0346  /data_multiclass_classification/No_Dementia/OA...           0\n",
       "1187       0346  /data_multiclass_classification/No_Dementia/OA...           0\n",
       "\n",
       "[1188 rows x 3 columns]"
      ]
     },
     "execution_count": 84,
     "metadata": {},
     "output_type": "execute_result"
    }
   ],
   "source": [
    "df = pd.DataFrame([patient_ids, image_paths, class_labels]).transpose()\n",
    "df.columns = ['patient_id', 'image_path', 'class_label']\n",
    "df"
   ]
  },
  {
   "cell_type": "markdown",
   "metadata": {},
   "source": [
    "# Resnet Classification"
   ]
  },
  {
   "cell_type": "code",
   "execution_count": null,
   "metadata": {},
   "outputs": [],
   "source": [
    "# Calculating means and std for normalization"
   ]
  },
  {
   "cell_type": "code",
   "execution_count": 9,
   "metadata": {},
   "outputs": [],
   "source": [
    "# Create datasets\n",
    "\n",
    "no_dementia_image_paths = os.listdir('/home/athimmaudayakumar/data_multiclass_classification/No_Dementia')\n",
    "mild_dementia_image_paths = os.listdir('/home/athimmaudayakumar/data_multiclass_classification/Mild_Dementia')\n",
    "advanced_dementia_image_paths = os.listdir('/home/athimmaudayakumar/data_multiclass_classification/Advanced_Dementia')\n",
    "\n",
    "patient_ids = []\n",
    "class_labels = []\n",
    "image_paths = []\n",
    "tracker = 0\n",
    "\n",
    "\n",
    "prefix = '/data_multiclass_classification/Advanced_Dementia/'\n",
    "\n",
    "for path in advanced_dementia_image_paths:\n",
    "    patient_id = path.split('_')[1]\n",
    "    if patient_id not in patient_ids:\n",
    "        patient_subset = [path for path in advanced_dementia_image_paths if path.split('_')[1] == patient_id]\n",
    "        chosen = random.sample(patient_subset, k=100)\n",
    "        tracker += 1\n",
    "        if tracker > 22:\n",
    "            break\n",
    "        for p in chosen:\n",
    "            image_paths.append(prefix + p)\n",
    "        for i in range(100):\n",
    "            patient_ids.append(patient_id)\n",
    "            class_labels.append(2)\n",
    "    else:\n",
    "        continue\n",
    "    \n",
    "\n",
    "prefix = '/data_multiclass_classification/Mild_Dementia/'\n",
    "tracker = 0\n",
    "for path in mild_dementia_image_paths:\n",
    "    patient_id = path.split('_')[1]\n",
    "    if patient_id not in patient_ids:\n",
    "        patient_subset = [path for path in mild_dementia_image_paths if path.split('_')[1] == patient_id]\n",
    "        chosen = random.sample(patient_subset, k=100)\n",
    "        tracker += 1\n",
    "        if tracker > 22:\n",
    "            break\n",
    "        for p in chosen:\n",
    "            image_paths.append(prefix + p)\n",
    "        for i in range(100):\n",
    "            patient_ids.append(patient_id)\n",
    "            class_labels.append(1)\n",
    "    else:\n",
    "        continue\n",
    "    \n",
    "prefix = '/data_multiclass_classification/No_Dementia/'\n",
    "tracker = 0\n",
    "\n",
    "for path in no_dementia_image_paths:\n",
    "    patient_id = path.split('_')[1]\n",
    "    if patient_id not in patient_ids:\n",
    "        patient_subset = [path for path in no_dementia_image_paths if path.split('_')[1] == patient_id]\n",
    "        chosen = random.sample(patient_subset, k=100)\n",
    "        tracker += 1\n",
    "        if tracker > 22:\n",
    "            break\n",
    "        for p in chosen:\n",
    "            image_paths.append(prefix + p)\n",
    "        for i in range(100):\n",
    "            patient_ids.append(patient_id)\n",
    "            class_labels.append(0)\n",
    "    else:\n",
    "        continue"
   ]
  },
  {
   "cell_type": "code",
   "execution_count": 10,
   "metadata": {},
   "outputs": [
    {
     "data": {
      "text/html": [
       "<div>\n",
       "<style scoped>\n",
       "    .dataframe tbody tr th:only-of-type {\n",
       "        vertical-align: middle;\n",
       "    }\n",
       "\n",
       "    .dataframe tbody tr th {\n",
       "        vertical-align: top;\n",
       "    }\n",
       "\n",
       "    .dataframe thead th {\n",
       "        text-align: right;\n",
       "    }\n",
       "</style>\n",
       "<table border=\"1\" class=\"dataframe\">\n",
       "  <thead>\n",
       "    <tr style=\"text-align: right;\">\n",
       "      <th></th>\n",
       "      <th>patient_id</th>\n",
       "      <th>image_path</th>\n",
       "      <th>class_label</th>\n",
       "    </tr>\n",
       "  </thead>\n",
       "  <tbody>\n",
       "    <tr>\n",
       "      <th>0</th>\n",
       "      <td>0073</td>\n",
       "      <td>/data_multiclass_classification/Advanced_Demen...</td>\n",
       "      <td>2</td>\n",
       "    </tr>\n",
       "    <tr>\n",
       "      <th>1</th>\n",
       "      <td>0073</td>\n",
       "      <td>/data_multiclass_classification/Advanced_Demen...</td>\n",
       "      <td>2</td>\n",
       "    </tr>\n",
       "    <tr>\n",
       "      <th>2</th>\n",
       "      <td>0073</td>\n",
       "      <td>/data_multiclass_classification/Advanced_Demen...</td>\n",
       "      <td>2</td>\n",
       "    </tr>\n",
       "    <tr>\n",
       "      <th>3</th>\n",
       "      <td>0073</td>\n",
       "      <td>/data_multiclass_classification/Advanced_Demen...</td>\n",
       "      <td>2</td>\n",
       "    </tr>\n",
       "    <tr>\n",
       "      <th>4</th>\n",
       "      <td>0073</td>\n",
       "      <td>/data_multiclass_classification/Advanced_Demen...</td>\n",
       "      <td>2</td>\n",
       "    </tr>\n",
       "    <tr>\n",
       "      <th>...</th>\n",
       "      <td>...</td>\n",
       "      <td>...</td>\n",
       "      <td>...</td>\n",
       "    </tr>\n",
       "    <tr>\n",
       "      <th>6595</th>\n",
       "      <td>0266</td>\n",
       "      <td>/data_multiclass_classification/No_Dementia/OA...</td>\n",
       "      <td>0</td>\n",
       "    </tr>\n",
       "    <tr>\n",
       "      <th>6596</th>\n",
       "      <td>0266</td>\n",
       "      <td>/data_multiclass_classification/No_Dementia/OA...</td>\n",
       "      <td>0</td>\n",
       "    </tr>\n",
       "    <tr>\n",
       "      <th>6597</th>\n",
       "      <td>0266</td>\n",
       "      <td>/data_multiclass_classification/No_Dementia/OA...</td>\n",
       "      <td>0</td>\n",
       "    </tr>\n",
       "    <tr>\n",
       "      <th>6598</th>\n",
       "      <td>0266</td>\n",
       "      <td>/data_multiclass_classification/No_Dementia/OA...</td>\n",
       "      <td>0</td>\n",
       "    </tr>\n",
       "    <tr>\n",
       "      <th>6599</th>\n",
       "      <td>0266</td>\n",
       "      <td>/data_multiclass_classification/No_Dementia/OA...</td>\n",
       "      <td>0</td>\n",
       "    </tr>\n",
       "  </tbody>\n",
       "</table>\n",
       "<p>6600 rows × 3 columns</p>\n",
       "</div>"
      ],
      "text/plain": [
       "     patient_id                                         image_path class_label\n",
       "0          0073  /data_multiclass_classification/Advanced_Demen...           2\n",
       "1          0073  /data_multiclass_classification/Advanced_Demen...           2\n",
       "2          0073  /data_multiclass_classification/Advanced_Demen...           2\n",
       "3          0073  /data_multiclass_classification/Advanced_Demen...           2\n",
       "4          0073  /data_multiclass_classification/Advanced_Demen...           2\n",
       "...         ...                                                ...         ...\n",
       "6595       0266  /data_multiclass_classification/No_Dementia/OA...           0\n",
       "6596       0266  /data_multiclass_classification/No_Dementia/OA...           0\n",
       "6597       0266  /data_multiclass_classification/No_Dementia/OA...           0\n",
       "6598       0266  /data_multiclass_classification/No_Dementia/OA...           0\n",
       "6599       0266  /data_multiclass_classification/No_Dementia/OA...           0\n",
       "\n",
       "[6600 rows x 3 columns]"
      ]
     },
     "execution_count": 10,
     "metadata": {},
     "output_type": "execute_result"
    }
   ],
   "source": [
    "df = pd.DataFrame([patient_ids, image_paths, class_labels]).transpose()\n",
    "df.columns = ['patient_id', 'image_path', 'class_label']\n",
    "df"
   ]
  },
  {
   "cell_type": "code",
   "execution_count": 11,
   "metadata": {},
   "outputs": [],
   "source": [
    "import torch\n",
    "from torch.utils.data import DataLoader\n",
    "from torchvision.transforms import ToTensor\n",
    "from alzheimers_dataset_resnet_copy import alzheimers_dataset"
   ]
  },
  {
   "cell_type": "code",
   "execution_count": 12,
   "metadata": {},
   "outputs": [],
   "source": [
    "transform = ToTensor()\n",
    "dataset = alzheimers_dataset('/home/athimmaudayakumar/', df['image_path'].to_numpy(), df['class_label'].to_numpy(),\n",
    "                             transform)\n",
    "loader = DataLoader(dataset, batch_size=32, shuffle=False)"
   ]
  },
  {
   "cell_type": "code",
   "execution_count": 13,
   "metadata": {},
   "outputs": [],
   "source": [
    "mean = 0.0\n",
    "std = 0.0\n",
    "total_pixels = 0"
   ]
  },
  {
   "cell_type": "code",
   "execution_count": 14,
   "metadata": {},
   "outputs": [],
   "source": [
    "for images, _ in loader:\n",
    "    batch_pixels = images.size(0) * images.size(2) * images.size(3)\n",
    "    total_pixels += batch_pixels\n",
    "\n",
    "    mean += images.sum()\n",
    "    std += (images ** 2).sum()"
   ]
  },
  {
   "cell_type": "code",
   "execution_count": 15,
   "metadata": {},
   "outputs": [],
   "source": [
    "mean /= total_pixels\n",
    "std = torch.sqrt(std / total_pixels - mean ** 2)"
   ]
  },
  {
   "cell_type": "code",
   "execution_count": 16,
   "metadata": {},
   "outputs": [
    {
     "name": "stdout",
     "output_type": "stream",
     "text": [
      "Dataset Mean:  0.16084879636764526\n",
      "Dataset STD:  0.17758174240589142\n"
     ]
    }
   ],
   "source": [
    "print(\"Dataset Mean: \", mean.item())\n",
    "\n",
    "print(\"Dataset STD: \", std.item())"
   ]
  },
  {
   "cell_type": "markdown",
   "metadata": {},
   "source": [
    "# Vision Transformer Classification"
   ]
  },
  {
   "cell_type": "code",
   "execution_count": 18,
   "metadata": {},
   "outputs": [],
   "source": [
    "import torch\n",
    "from torch.utils.data import DataLoader\n",
    "import torchvision.transforms as tf\n",
    "from alzheimers_dataset_resnet_copy import alzheimers_dataset"
   ]
  },
  {
   "cell_type": "code",
   "execution_count": 19,
   "metadata": {},
   "outputs": [],
   "source": [
    "transform = tf.Compose([\n",
    "    tf.Pad([0, 124,]),\n",
    "    tf.Resize((224, 224)),\n",
    "    tf.ToTensor(),\n",
    "])\n",
    "dataset = alzheimers_dataset('/home/athimmaudayakumar/', df['image_path'].to_numpy(), df['class_label'].to_numpy(),\n",
    "                             transform)\n",
    "loader = DataLoader(dataset, batch_size=32, shuffle=False)"
   ]
  },
  {
   "cell_type": "code",
   "execution_count": 20,
   "metadata": {},
   "outputs": [],
   "source": [
    "mean = 0.0\n",
    "std = 0.0\n",
    "total_pixels = 0"
   ]
  },
  {
   "cell_type": "code",
   "execution_count": 21,
   "metadata": {},
   "outputs": [],
   "source": [
    "for images, _ in loader:\n",
    "    batch_pixels = images.size(0) * images.size(2) * images.size(3)\n",
    "    total_pixels += batch_pixels\n",
    "\n",
    "    mean += images.sum()\n",
    "    std += (images ** 2).sum()"
   ]
  },
  {
   "cell_type": "code",
   "execution_count": 22,
   "metadata": {},
   "outputs": [],
   "source": [
    "mean /= total_pixels\n",
    "std = torch.sqrt(std / total_pixels - mean ** 2)"
   ]
  },
  {
   "cell_type": "code",
   "execution_count": 23,
   "metadata": {},
   "outputs": [
    {
     "name": "stdout",
     "output_type": "stream",
     "text": [
      "Dataset Mean:  0.08042196184396744\n",
      "Dataset STD:  0.14651180803775787\n"
     ]
    }
   ],
   "source": [
    "print(\"Dataset Mean: \", mean.item())\n",
    "\n",
    "print(\"Dataset STD: \", std.item())"
   ]
  }
 ],
 "metadata": {
  "kernelspec": {
   "display_name": "Python 3 (ipykernel)",
   "language": "python",
   "name": "python3"
  },
  "language_info": {
   "codemirror_mode": {
    "name": "ipython",
    "version": 3
   },
   "file_extension": ".py",
   "mimetype": "text/x-python",
   "name": "python",
   "nbconvert_exporter": "python",
   "pygments_lexer": "ipython3",
   "version": "3.11.9"
  }
 },
 "nbformat": 4,
 "nbformat_minor": 4
}
