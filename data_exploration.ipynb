{
 "cells": [
  {
   "cell_type": "code",
   "execution_count": 2,
   "metadata": {},
   "outputs": [],
   "source": [
    "import os\n",
    "import pandas as pd\n",
    "import numpy as np\n",
    "import random"
   ]
  },
  {
   "cell_type": "code",
   "execution_count": 4,
   "metadata": {},
   "outputs": [
    {
     "name": "stdout",
     "output_type": "stream",
     "text": [
      "['OAS1_0023_MR1_mpr-3_127.jpg', 'OAS1_0233_MR1_mpr-3_102.jpg', 'OAS1_0286_MR1_mpr-1_102.jpg', 'OAS1_0308_MR1_mpr-1_125.jpg', 'OAS1_0240_MR1_mpr-2_122.jpg']\n",
      "['0023', '0233', '0286', '0308', '0240', '0351', '0137', '0115', '0179', '0291', '0380', '0278', '0003', '0120', '0084', '0042', '0161', '0382', '0287', '0022', '0298', '0316', '0263', '0267', '0052', '0373', '0307', '0039', '0339', '0243', '0053', '0098', '0035', '0210', '0073', '0290', '0158', '0166', '0304', '0028', '0238', '0217', '0066', '0362', '0247', '0226', '0134', '0142', '0056', '0269', '0041', '0123', '0288', '0122', '0164', '0374', '0315', '0268', '0021', '0067', '0094', '0143', '0155', '0082', '0335', '0031', '0016', '0046', '0124', '0312', '0272', '0273', '0015', '0329', '0205', '0185', '0223', '0300', '0060', '0352', '0184']\n"
     ]
    }
   ],
   "source": [
    "# Participants in Dementia class\n",
    "\n",
    "dementia_image_paths = os.listdir('/Users/aatyanth/COGS181/Data/Dementia')\n",
    "print(dementia_image_paths[0:5])\n",
    "\n",
    "participants_dementia = []\n",
    "for path in dementia_image_paths:\n",
    "    if 'Store' in path:\n",
    "        continue\n",
    "    if path.split('_')[1] not in participants_dementia:\n",
    "        participants_dementia.append(path.split('_')[1])\n",
    "print(participants_dementia)"
   ]
  },
  {
   "cell_type": "code",
   "execution_count": 6,
   "metadata": {},
   "outputs": [
    {
     "name": "stdout",
     "output_type": "stream",
     "text": [
      "['OAS1_0349_MR1_mpr-4_142.jpg', 'OAS1_0317_MR1_mpr-1_141.jpg', 'OAS1_0234_MR1_mpr-4_136.jpg', 'OAS1_0182_MR1_mpr-1_139.jpg', 'OAS1_0132_MR1_mpr-2_117.jpg']\n",
      "['0349', '0317', '0234', '0182', '0132', '0055', '0144', '0229', '0322', '0096', '0146', '0356', '0275', '0141', '0026', '0050', '0068', '0369', '0214', '0213', '0330', '0346', '0086', '0376', '0294', '0077', '0195', '0224', '0289', '0253', '0160', '0043', '0193', '0085', '0076', '0254', '0377', '0295', '0121', '0109', '0002', '0331', '0368', '0279', '0069', '0162', '0178', '0114', '0140', '0051', '0241', '0350', '0274', '0357', '0202', '0309', '0119', '0147', '0097', '0232', '0323', '0101', '0133', '0025', '0088', '0348', '0111', '0301', '0074', '0319', '0081', '0190', '0296', '0156', '0034', '0353', '0354', '0065', '0130', '0236', '0327', '0305', '0072', '0265', '0110', '0211', '0359', '0099', '0117', '0107', '0338', '0013', '0326', '0237', '0027', '0136', '0131', '0012', '0321', '0054', '0038', '0145', '0355', '0244', '0183', '0170', '0358', '0264', '0087', '0157', '0080', '0191', '0372', '0381', '0004', '0371', '0227', '0018', '0113', '0303', '0375', '0212', '0345', '0266', '0370', '0292', '0261', '0071', '0061', '0049', '0259', '0200', '0010', '0246', '0104', '0363', '0173', '0231', '0011', '0201', '0284', '0258', '0325', '0159', '0070', '0192', '0260', '0293', '0344', '0239', '0302', '0112', '0188', '0332', '0250', '0181', '0079', '0314', '0165', '0116', '0092', '0095', '0228', '0020', '0230', '0208', '0189', '0216', '0006', '0001', '0108', '0197', '0075', '0209', '0163', '0040', '0105', '0277', '0037', '0235', '0017', '0186', '0218', '0220', '0030', '0152', '0342', '0343', '0083', '0153', '0221', '0174', '0009', '0135', '0206', '0283', '0125', '0047', '0103', '0256', '0059', '0199', '0282', '0271', '0313', '0270', '0058', '0019', '0151', '0127', '0045', '0138', '0033', '0328', '0310', '0091', '0062', '0378', '0063', '0090', '0177', '0311', '0044', '0167', '0139', '0005', '0126', '0007', '0367', '0176', '0366', '0204', '0014', '0169', '0262', '0341', '0222', '0336', '0340', '0168', '0129', '0280', '0198', '0281', '0180', '0057', '0337', '0255', '0365', '0078', '0379', '0102', '0285', '0333', '0032', '0249', '0150', '0106', '0207', '0064', '0299', '0148', '0203', '0361', '0318', '0029']\n"
     ]
    }
   ],
   "source": [
    "# Participants in No Dementia class\n",
    "\n",
    "no_dementia_image_paths = os.listdir('/Users/aatyanth/COGS181/Data/No_Dementia')\n",
    "\n",
    "print(no_dementia_image_paths[0 : 5])\n",
    "\n",
    "participants_no_dementia = []\n",
    "\n",
    "for path in no_dementia_image_paths:\n",
    "    if path.split('_')[1] not in participants_no_dementia:\n",
    "        participants_no_dementia.append(path.split('_')[1])\n",
    "\n",
    "print(participants_no_dementia)"
   ]
  },
  {
   "cell_type": "code",
   "execution_count": 22,
   "metadata": {},
   "outputs": [],
   "source": [
    "# Create a dataframe to represent the data\n",
    "patient_ids = []\n",
    "class_labels = []\n",
    "image_paths = []\n",
    "prefix = '/Data/Dementia/'\n",
    "\n",
    "for path in dementia_image_paths:\n",
    "    patient_id = path.split('_')[1]\n",
    "    if patient_id not in patient_ids:\n",
    "        patient_subset = [path for path in dementia_image_paths if path.split('_')[1] == patient_id]\n",
    "        chosen = random.choices(patient_subset, k=16)\n",
    "        for p in chosen:\n",
    "            image_paths.append(prefix + p)\n",
    "        for i in range(16):\n",
    "            patient_ids.append(patient_id)\n",
    "            class_labels.append(1)\n",
    "    else:\n",
    "        continue\n",
    "    \n",
    "\n",
    "prefix = '/Data/No_Dementia'\n",
    "tracker = 0\n",
    "for path in no_dementia_image_paths:\n",
    "    patient_id = path.split('_')[1]\n",
    "    if patient_id not in patient_ids:\n",
    "        patient_subset = [path for path in no_dementia_image_paths if path.split('_')[1] == patient_id]\n",
    "        chosen = random.choices(patient_subset, k=16)\n",
    "        tracker += 1\n",
    "        if tracker > 81:\n",
    "            break\n",
    "        for p in chosen:\n",
    "            image_paths.append(prefix + p)\n",
    "        for i in range(16):\n",
    "            patient_ids.append(patient_id)\n",
    "            class_labels.append(0)\n",
    "    else:\n",
    "        continue"
   ]
  },
  {
   "cell_type": "code",
   "execution_count": 23,
   "metadata": {},
   "outputs": [
    {
     "data": {
      "text/html": [
       "<div>\n",
       "<style scoped>\n",
       "    .dataframe tbody tr th:only-of-type {\n",
       "        vertical-align: middle;\n",
       "    }\n",
       "\n",
       "    .dataframe tbody tr th {\n",
       "        vertical-align: top;\n",
       "    }\n",
       "\n",
       "    .dataframe thead th {\n",
       "        text-align: right;\n",
       "    }\n",
       "</style>\n",
       "<table border=\"1\" class=\"dataframe\">\n",
       "  <thead>\n",
       "    <tr style=\"text-align: right;\">\n",
       "      <th></th>\n",
       "      <th>patient_id</th>\n",
       "      <th>image_path</th>\n",
       "      <th>class_label</th>\n",
       "    </tr>\n",
       "  </thead>\n",
       "  <tbody>\n",
       "    <tr>\n",
       "      <th>0</th>\n",
       "      <td>0023</td>\n",
       "      <td>/Data/Dementia/OAS1_0023_MR1_mpr-3_134.jpg</td>\n",
       "      <td>1</td>\n",
       "    </tr>\n",
       "    <tr>\n",
       "      <th>1</th>\n",
       "      <td>0023</td>\n",
       "      <td>/Data/Dementia/OAS1_0023_MR1_mpr-1_122.jpg</td>\n",
       "      <td>1</td>\n",
       "    </tr>\n",
       "    <tr>\n",
       "      <th>2</th>\n",
       "      <td>0023</td>\n",
       "      <td>/Data/Dementia/OAS1_0023_MR1_mpr-4_144.jpg</td>\n",
       "      <td>1</td>\n",
       "    </tr>\n",
       "    <tr>\n",
       "      <th>3</th>\n",
       "      <td>0023</td>\n",
       "      <td>/Data/Dementia/OAS1_0023_MR1_mpr-2_105.jpg</td>\n",
       "      <td>1</td>\n",
       "    </tr>\n",
       "    <tr>\n",
       "      <th>4</th>\n",
       "      <td>0023</td>\n",
       "      <td>/Data/Dementia/OAS1_0023_MR1_mpr-1_127.jpg</td>\n",
       "      <td>1</td>\n",
       "    </tr>\n",
       "    <tr>\n",
       "      <th>...</th>\n",
       "      <td>...</td>\n",
       "      <td>...</td>\n",
       "      <td>...</td>\n",
       "    </tr>\n",
       "    <tr>\n",
       "      <th>2587</th>\n",
       "      <td>0327</td>\n",
       "      <td>/Data/No_DementiaOAS1_0327_MR1_mpr-4_149.jpg</td>\n",
       "      <td>0</td>\n",
       "    </tr>\n",
       "    <tr>\n",
       "      <th>2588</th>\n",
       "      <td>0327</td>\n",
       "      <td>/Data/No_DementiaOAS1_0327_MR1_mpr-1_142.jpg</td>\n",
       "      <td>0</td>\n",
       "    </tr>\n",
       "    <tr>\n",
       "      <th>2589</th>\n",
       "      <td>0327</td>\n",
       "      <td>/Data/No_DementiaOAS1_0327_MR1_mpr-1_106.jpg</td>\n",
       "      <td>0</td>\n",
       "    </tr>\n",
       "    <tr>\n",
       "      <th>2590</th>\n",
       "      <td>0327</td>\n",
       "      <td>/Data/No_DementiaOAS1_0327_MR1_mpr-1_148.jpg</td>\n",
       "      <td>0</td>\n",
       "    </tr>\n",
       "    <tr>\n",
       "      <th>2591</th>\n",
       "      <td>0327</td>\n",
       "      <td>/Data/No_DementiaOAS1_0327_MR1_mpr-3_109.jpg</td>\n",
       "      <td>0</td>\n",
       "    </tr>\n",
       "  </tbody>\n",
       "</table>\n",
       "<p>2592 rows × 3 columns</p>\n",
       "</div>"
      ],
      "text/plain": [
       "     patient_id                                    image_path class_label\n",
       "0          0023    /Data/Dementia/OAS1_0023_MR1_mpr-3_134.jpg           1\n",
       "1          0023    /Data/Dementia/OAS1_0023_MR1_mpr-1_122.jpg           1\n",
       "2          0023    /Data/Dementia/OAS1_0023_MR1_mpr-4_144.jpg           1\n",
       "3          0023    /Data/Dementia/OAS1_0023_MR1_mpr-2_105.jpg           1\n",
       "4          0023    /Data/Dementia/OAS1_0023_MR1_mpr-1_127.jpg           1\n",
       "...         ...                                           ...         ...\n",
       "2587       0327  /Data/No_DementiaOAS1_0327_MR1_mpr-4_149.jpg           0\n",
       "2588       0327  /Data/No_DementiaOAS1_0327_MR1_mpr-1_142.jpg           0\n",
       "2589       0327  /Data/No_DementiaOAS1_0327_MR1_mpr-1_106.jpg           0\n",
       "2590       0327  /Data/No_DementiaOAS1_0327_MR1_mpr-1_148.jpg           0\n",
       "2591       0327  /Data/No_DementiaOAS1_0327_MR1_mpr-3_109.jpg           0\n",
       "\n",
       "[2592 rows x 3 columns]"
      ]
     },
     "execution_count": 23,
     "metadata": {},
     "output_type": "execute_result"
    }
   ],
   "source": [
    "df = pd.DataFrame([patient_ids, image_paths, class_labels]).transpose()\n",
    "df.columns = ['patient_id', 'image_path', 'class_label']\n",
    "df"
   ]
  },
  {
   "cell_type": "code",
   "execution_count": null,
   "metadata": {},
   "outputs": [],
   "source": [
    "# # participants to be used in the train dataset\n",
    "# train_indices = []\n",
    "\n",
    "# train_indices.append(random.sample(participants_dementia, k=4))\n",
    "# train_indices.append(random.sample(participants_no_dementia, k=4))\n"
   ]
  },
  {
   "cell_type": "code",
   "execution_count": 67,
   "metadata": {},
   "outputs": [
    {
     "name": "stdout",
     "output_type": "stream",
     "text": [
      "Participants from Dementia class:  ['0351', '0021', '0003', '0308']\n",
      "Participants from No Dementia class:  ['0002', '0004', '0006', '0009']\n",
      "[['0351', '0021', '0003', '0308'], ['0002', '0004', '0006', '0009']]\n"
     ]
    }
   ],
   "source": [
    "\n",
    "print('Participants from Dementia class: ', train_indices[0])\n",
    "print('Participants from No Dementia class: ', train_indices[1])\n",
    "print(train_indices)"
   ]
  },
  {
   "cell_type": "code",
   "execution_count": null,
   "metadata": {},
   "outputs": [],
   "source": []
  }
 ],
 "metadata": {
  "kernelspec": {
   "display_name": "base",
   "language": "python",
   "name": "python3"
  },
  "language_info": {
   "codemirror_mode": {
    "name": "ipython",
    "version": 3
   },
   "file_extension": ".py",
   "mimetype": "text/x-python",
   "name": "python",
   "nbconvert_exporter": "python",
   "pygments_lexer": "ipython3",
   "version": "3.12.8"
  }
 },
 "nbformat": 4,
 "nbformat_minor": 2
}
