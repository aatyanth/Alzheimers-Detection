{
 "cells": [
  {
   "cell_type": "code",
   "execution_count": 8,
   "metadata": {},
   "outputs": [],
   "source": [
    "import torch\n",
    "import torch.nn as nn\n",
    "import torch.nn.functional as F\n",
    "import torch.optim as optim\n",
    "import numpy as np\n",
    "import pandas as pd\n",
    "import os"
   ]
  },
  {
   "cell_type": "markdown",
   "metadata": {},
   "source": [
    "# Data Preperation"
   ]
  },
  {
   "cell_type": "markdown",
   "metadata": {},
   "source": [
    "### Create dataset"
   ]
  },
  {
   "cell_type": "code",
   "execution_count": 11,
   "metadata": {},
   "outputs": [
    {
     "data": {
      "text/html": [
       "<div>\n",
       "<style scoped>\n",
       "    .dataframe tbody tr th:only-of-type {\n",
       "        vertical-align: middle;\n",
       "    }\n",
       "\n",
       "    .dataframe tbody tr th {\n",
       "        vertical-align: top;\n",
       "    }\n",
       "\n",
       "    .dataframe thead th {\n",
       "        text-align: right;\n",
       "    }\n",
       "</style>\n",
       "<table border=\"1\" class=\"dataframe\">\n",
       "  <thead>\n",
       "    <tr style=\"text-align: right;\">\n",
       "      <th></th>\n",
       "      <th>patient_id</th>\n",
       "      <th>image_path</th>\n",
       "      <th>class_label</th>\n",
       "    </tr>\n",
       "  </thead>\n",
       "  <tbody>\n",
       "    <tr>\n",
       "      <th>0</th>\n",
       "      <td>0308</td>\n",
       "      <td>/Filtered_Date/Dementia/OAS1_0308_MR1_mpr-1_12...</td>\n",
       "      <td>1</td>\n",
       "    </tr>\n",
       "    <tr>\n",
       "      <th>1</th>\n",
       "      <td>0351</td>\n",
       "      <td>/Filtered_Date/Dementia/OAS1_0351_MR1_mpr-3_11...</td>\n",
       "      <td>1</td>\n",
       "    </tr>\n",
       "    <tr>\n",
       "      <th>2</th>\n",
       "      <td>0003</td>\n",
       "      <td>/Filtered_Date/Dementia/OAS1_0003_MR1_mpr-4_14...</td>\n",
       "      <td>1</td>\n",
       "    </tr>\n",
       "    <tr>\n",
       "      <th>3</th>\n",
       "      <td>0003</td>\n",
       "      <td>/Filtered_Date/Dementia/OAS1_0003_MR1_mpr-4_15...</td>\n",
       "      <td>1</td>\n",
       "    </tr>\n",
       "    <tr>\n",
       "      <th>4</th>\n",
       "      <td>0308</td>\n",
       "      <td>/Filtered_Date/Dementia/OAS1_0308_MR1_mpr-1_13...</td>\n",
       "      <td>1</td>\n",
       "    </tr>\n",
       "    <tr>\n",
       "      <th>...</th>\n",
       "      <td>...</td>\n",
       "      <td>...</td>\n",
       "      <td>...</td>\n",
       "    </tr>\n",
       "    <tr>\n",
       "      <th>2924</th>\n",
       "      <td>0005</td>\n",
       "      <td>/Filtered_Date/Dementia/OAS1_0005_MR1_mpr-3_14...</td>\n",
       "      <td>0</td>\n",
       "    </tr>\n",
       "    <tr>\n",
       "      <th>2925</th>\n",
       "      <td>0005</td>\n",
       "      <td>/Filtered_Date/Dementia/OAS1_0005_MR1_mpr-3_15...</td>\n",
       "      <td>0</td>\n",
       "    </tr>\n",
       "    <tr>\n",
       "      <th>2926</th>\n",
       "      <td>0004</td>\n",
       "      <td>/Filtered_Date/Dementia/OAS1_0004_MR1_mpr-3_15...</td>\n",
       "      <td>0</td>\n",
       "    </tr>\n",
       "    <tr>\n",
       "      <th>2927</th>\n",
       "      <td>0001</td>\n",
       "      <td>/Filtered_Date/Dementia/OAS1_0001_MR1_mpr-2_15...</td>\n",
       "      <td>0</td>\n",
       "    </tr>\n",
       "    <tr>\n",
       "      <th>2928</th>\n",
       "      <td>0001</td>\n",
       "      <td>/Filtered_Date/Dementia/OAS1_0001_MR1_mpr-2_14...</td>\n",
       "      <td>0</td>\n",
       "    </tr>\n",
       "  </tbody>\n",
       "</table>\n",
       "<p>2929 rows × 3 columns</p>\n",
       "</div>"
      ],
      "text/plain": [
       "     patient_id                                         image_path class_label\n",
       "0          0308  /Filtered_Date/Dementia/OAS1_0308_MR1_mpr-1_12...           1\n",
       "1          0351  /Filtered_Date/Dementia/OAS1_0351_MR1_mpr-3_11...           1\n",
       "2          0003  /Filtered_Date/Dementia/OAS1_0003_MR1_mpr-4_14...           1\n",
       "3          0003  /Filtered_Date/Dementia/OAS1_0003_MR1_mpr-4_15...           1\n",
       "4          0308  /Filtered_Date/Dementia/OAS1_0308_MR1_mpr-1_13...           1\n",
       "...         ...                                                ...         ...\n",
       "2924       0005  /Filtered_Date/Dementia/OAS1_0005_MR1_mpr-3_14...           0\n",
       "2925       0005  /Filtered_Date/Dementia/OAS1_0005_MR1_mpr-3_15...           0\n",
       "2926       0004  /Filtered_Date/Dementia/OAS1_0004_MR1_mpr-3_15...           0\n",
       "2927       0001  /Filtered_Date/Dementia/OAS1_0001_MR1_mpr-2_15...           0\n",
       "2928       0001  /Filtered_Date/Dementia/OAS1_0001_MR1_mpr-2_14...           0\n",
       "\n",
       "[2929 rows x 3 columns]"
      ]
     },
     "execution_count": 11,
     "metadata": {},
     "output_type": "execute_result"
    }
   ],
   "source": [
    "# Create datasets\n",
    "\n",
    "dementia_image_paths = os.listdir('/Users/aatyanth/COGS181/Alzheimers-Detection/data/Dementia')\n",
    "no_dementia_image_paths = os.listdir('/Users/aatyanth/COGS181/Alzheimers-Detection/data/No_Dementia')\n",
    "\n",
    "patient_ids = []\n",
    "class_labels = []\n",
    "image_paths = []\n",
    "prefix = '/Filtered_Date/Dementia/'\n",
    "\n",
    "for path in dementia_image_paths:\n",
    "    patient_ids.append(path.split('_')[1])\n",
    "    image_paths.append(prefix + path)\n",
    "    class_labels.append(1)\n",
    "\n",
    "for path in no_dementia_image_paths:\n",
    "    patient_ids.append(path.split('_')[1])\n",
    "    image_paths.append(prefix + path)\n",
    "    class_labels.append(0)\n",
    "\n",
    "df = pd.DataFrame([patient_ids, image_paths, class_labels]).transpose()\n",
    "df.columns = ['patient_id', 'image_path', 'class_label']\n",
    "df\n"
   ]
  },
  {
   "cell_type": "markdown",
   "metadata": {},
   "source": [
    "### Train-Test Split (based on random selection done in data_exploration.ipynb)"
   ]
  },
  {
   "cell_type": "code",
   "execution_count": 21,
   "metadata": {},
   "outputs": [
    {
     "name": "stdout",
     "output_type": "stream",
     "text": [
      "1952\n",
      "976\n",
      "Train Ratio:  0.6664390576988733\n",
      "Test Ratio:  0.3332195288494367\n"
     ]
    }
   ],
   "source": [
    "train_set = df[df['patient_id'].isin(['0351', '0021', '0003', '0308', '0002', '0004', '0006', '0009'])]\n",
    "print(len(train_set))\n",
    "\n",
    "test_set = df[df['patient_id'].isin(['0028', '0031', '0001', '0005'])]\n",
    "print(len(test_set))\n",
    "\n",
    "print('Train Ratio: ', (len(train_set) / len(df)))\n",
    "print('Test Ratio: ', (len(test_set) / len(df)))"
   ]
  },
  {
   "cell_type": "code",
   "execution_count": null,
   "metadata": {},
   "outputs": [],
   "source": []
  }
 ],
 "metadata": {
  "kernelspec": {
   "display_name": "base",
   "language": "python",
   "name": "python3"
  },
  "language_info": {
   "codemirror_mode": {
    "name": "ipython",
    "version": 3
   },
   "file_extension": ".py",
   "mimetype": "text/x-python",
   "name": "python",
   "nbconvert_exporter": "python",
   "pygments_lexer": "ipython3",
   "version": "3.12.8"
  }
 },
 "nbformat": 4,
 "nbformat_minor": 2
}
