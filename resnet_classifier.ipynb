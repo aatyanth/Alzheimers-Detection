{
 "cells": [
  {
   "cell_type": "code",
   "execution_count": 2,
   "metadata": {},
   "outputs": [],
   "source": [
    "import torch\n",
    "import torch.nn as nn\n",
    "import torch.nn.functional as F\n",
    "import torch.optim as optim\n",
    "import torchvision\n",
    "import torchvision.models as model\n",
    "import numpy as np\n",
    "import pandas as pd\n",
    "import os\n",
    "import matplotlib.pyplot as plt"
   ]
  },
  {
   "cell_type": "markdown",
   "metadata": {},
   "source": [
    "# Data Preparation"
   ]
  },
  {
   "cell_type": "markdown",
   "metadata": {},
   "source": [
    "### Create dataset"
   ]
  },
  {
   "cell_type": "code",
   "execution_count": 3,
   "metadata": {},
   "outputs": [
    {
     "data": {
      "text/html": [
       "<div>\n",
       "<style scoped>\n",
       "    .dataframe tbody tr th:only-of-type {\n",
       "        vertical-align: middle;\n",
       "    }\n",
       "\n",
       "    .dataframe tbody tr th {\n",
       "        vertical-align: top;\n",
       "    }\n",
       "\n",
       "    .dataframe thead th {\n",
       "        text-align: right;\n",
       "    }\n",
       "</style>\n",
       "<table border=\"1\" class=\"dataframe\">\n",
       "  <thead>\n",
       "    <tr style=\"text-align: right;\">\n",
       "      <th></th>\n",
       "      <th>patient_id</th>\n",
       "      <th>image_path</th>\n",
       "      <th>class_label</th>\n",
       "    </tr>\n",
       "  </thead>\n",
       "  <tbody>\n",
       "    <tr>\n",
       "      <th>0</th>\n",
       "      <td>0308</td>\n",
       "      <td>/data/Dementia/OAS1_0308_MR1_mpr-1_125.jpg</td>\n",
       "      <td>1</td>\n",
       "    </tr>\n",
       "    <tr>\n",
       "      <th>1</th>\n",
       "      <td>0351</td>\n",
       "      <td>/data/Dementia/OAS1_0351_MR1_mpr-3_112.jpg</td>\n",
       "      <td>1</td>\n",
       "    </tr>\n",
       "    <tr>\n",
       "      <th>2</th>\n",
       "      <td>0003</td>\n",
       "      <td>/data/Dementia/OAS1_0003_MR1_mpr-4_145.jpg</td>\n",
       "      <td>1</td>\n",
       "    </tr>\n",
       "    <tr>\n",
       "      <th>3</th>\n",
       "      <td>0003</td>\n",
       "      <td>/data/Dementia/OAS1_0003_MR1_mpr-4_151.jpg</td>\n",
       "      <td>1</td>\n",
       "    </tr>\n",
       "    <tr>\n",
       "      <th>4</th>\n",
       "      <td>0308</td>\n",
       "      <td>/data/Dementia/OAS1_0308_MR1_mpr-1_131.jpg</td>\n",
       "      <td>1</td>\n",
       "    </tr>\n",
       "    <tr>\n",
       "      <th>...</th>\n",
       "      <td>...</td>\n",
       "      <td>...</td>\n",
       "      <td>...</td>\n",
       "    </tr>\n",
       "    <tr>\n",
       "      <th>2924</th>\n",
       "      <td>0005</td>\n",
       "      <td>/data/No_Dementia/OAS1_0005_MR1_mpr-3_146.jpg</td>\n",
       "      <td>0</td>\n",
       "    </tr>\n",
       "    <tr>\n",
       "      <th>2925</th>\n",
       "      <td>0005</td>\n",
       "      <td>/data/No_Dementia/OAS1_0005_MR1_mpr-3_152.jpg</td>\n",
       "      <td>0</td>\n",
       "    </tr>\n",
       "    <tr>\n",
       "      <th>2926</th>\n",
       "      <td>0004</td>\n",
       "      <td>/data/No_Dementia/OAS1_0004_MR1_mpr-3_154.jpg</td>\n",
       "      <td>0</td>\n",
       "    </tr>\n",
       "    <tr>\n",
       "      <th>2927</th>\n",
       "      <td>0001</td>\n",
       "      <td>/data/No_Dementia/OAS1_0001_MR1_mpr-2_152.jpg</td>\n",
       "      <td>0</td>\n",
       "    </tr>\n",
       "    <tr>\n",
       "      <th>2928</th>\n",
       "      <td>0001</td>\n",
       "      <td>/data/No_Dementia/OAS1_0001_MR1_mpr-2_146.jpg</td>\n",
       "      <td>0</td>\n",
       "    </tr>\n",
       "  </tbody>\n",
       "</table>\n",
       "<p>2929 rows × 3 columns</p>\n",
       "</div>"
      ],
      "text/plain": [
       "     patient_id                                     image_path class_label\n",
       "0          0308     /data/Dementia/OAS1_0308_MR1_mpr-1_125.jpg           1\n",
       "1          0351     /data/Dementia/OAS1_0351_MR1_mpr-3_112.jpg           1\n",
       "2          0003     /data/Dementia/OAS1_0003_MR1_mpr-4_145.jpg           1\n",
       "3          0003     /data/Dementia/OAS1_0003_MR1_mpr-4_151.jpg           1\n",
       "4          0308     /data/Dementia/OAS1_0308_MR1_mpr-1_131.jpg           1\n",
       "...         ...                                            ...         ...\n",
       "2924       0005  /data/No_Dementia/OAS1_0005_MR1_mpr-3_146.jpg           0\n",
       "2925       0005  /data/No_Dementia/OAS1_0005_MR1_mpr-3_152.jpg           0\n",
       "2926       0004  /data/No_Dementia/OAS1_0004_MR1_mpr-3_154.jpg           0\n",
       "2927       0001  /data/No_Dementia/OAS1_0001_MR1_mpr-2_152.jpg           0\n",
       "2928       0001  /data/No_Dementia/OAS1_0001_MR1_mpr-2_146.jpg           0\n",
       "\n",
       "[2929 rows x 3 columns]"
      ]
     },
     "execution_count": 3,
     "metadata": {},
     "output_type": "execute_result"
    }
   ],
   "source": [
    "# Create datasets\n",
    "\n",
    "dementia_image_paths = os.listdir('/Users/aatyanth/COGS181/Alzheimers-Detection/data/Dementia')\n",
    "no_dementia_image_paths = os.listdir('/Users/aatyanth/COGS181/Alzheimers-Detection/data/No_Dementia')\n",
    "\n",
    "patient_ids = []\n",
    "class_labels = []\n",
    "image_paths = []\n",
    "prefix = '/data/Dementia/'\n",
    "\n",
    "for path in dementia_image_paths:\n",
    "    patient_ids.append(path.split('_')[1])\n",
    "    image_paths.append(prefix + path)\n",
    "    class_labels.append(1)\n",
    "\n",
    "prefix = '/data/No_Dementia/' \n",
    "for path in no_dementia_image_paths:\n",
    "    patient_ids.append(path.split('_')[1])\n",
    "    image_paths.append(prefix + path)\n",
    "    class_labels.append(0)\n",
    "\n",
    "df = pd.DataFrame([patient_ids, image_paths, class_labels]).transpose()\n",
    "df.columns = ['patient_id', 'image_path', 'class_label']\n",
    "df\n"
   ]
  },
  {
   "cell_type": "markdown",
   "metadata": {},
   "source": [
    "### Train-Test Split (based on random selection of patients done in data_exploration.ipynb)"
   ]
  },
  {
   "cell_type": "code",
   "execution_count": 4,
   "metadata": {},
   "outputs": [
    {
     "name": "stdout",
     "output_type": "stream",
     "text": [
      "1952\n",
      "976\n",
      "Train Ratio:  0.6664390576988733\n",
      "Test Ratio:  0.3332195288494367\n"
     ]
    }
   ],
   "source": [
    "train_df = df[df['patient_id'].isin(['0351', '0021', '0003', '0308', '0002', '0004', '0006', '0009'])]\n",
    "train_df = train_df.reset_index()\n",
    "print(len(train_df))\n",
    "\n",
    "test_df = df[df['patient_id'].isin(['0028', '0031', '0001', '0005'])]\n",
    "test_df = test_df.reset_index()\n",
    "print(len(test_df))\n",
    "\n",
    "print('Train Ratio: ', (len(train_df) / len(df)))\n",
    "print('Test Ratio: ', (len(test_df) / len(df)))"
   ]
  },
  {
   "cell_type": "markdown",
   "metadata": {},
   "source": [
    "# Data Pipeline"
   ]
  },
  {
   "cell_type": "markdown",
   "metadata": {},
   "source": [
    "### Defining Transforms"
   ]
  },
  {
   "cell_type": "code",
   "execution_count": 5,
   "metadata": {},
   "outputs": [],
   "source": [
    "# Importing the custom dataset class\n",
    "from alzheimers_dataset import alzheimers_dataset\n",
    "import torchvision.transforms as tf"
   ]
  },
  {
   "cell_type": "code",
   "execution_count": 6,
   "metadata": {},
   "outputs": [],
   "source": [
    "# Simple transforms for baseline model\n",
    "transforms = tf.Compose([\n",
    "    tf.Pad([0, 124,]),\n",
    "    tf.ToTensor(),\n",
    "    ])"
   ]
  },
  {
   "cell_type": "code",
   "execution_count": 7,
   "metadata": {},
   "outputs": [],
   "source": [
    "# Create datasets based on custom dataset class\n",
    "root_dir = '/Users/aatyanth/COGS181/Alzheimers-Detection'\n",
    "\n",
    "train_image_paths = train_df['image_path'].to_numpy()\n",
    "train_labels = train_df['class_label'].to_numpy()\n",
    "train_set = alzheimers_dataset(root_dir=root_dir, image_paths=train_image_paths, labels=train_labels, transform=transforms)\n",
    "test_image_paths = test_df['image_path'].to_numpy()\n",
    "test_labels = test_df['class_label'].to_numpy()\n",
    "test_set = alzheimers_dataset(root_dir=root_dir, image_paths=test_image_paths, labels=train_labels, transform=transforms)\n",
    "\n",
    "# Set up DataLoaders for train and test set\n",
    "train_loader = torch.utils.data.DataLoader(train_set, batch_size=10, shuffle=True, num_workers=2)\n",
    "test_loader = torch.utils.data.DataLoader(test_set, batch_size=10, shuffle=True, num_workers=2)"
   ]
  },
  {
   "cell_type": "code",
   "execution_count": 8,
   "metadata": {},
   "outputs": [
    {
     "data": {
      "image/png": "[encoded data removed]",
      "text/plain": [
       "<Figure size 640x480 with 1 Axes>"
      ]
     },
     "metadata": {},
     "output_type": "display_data"
    },
    {
     "name": "stdout",
     "output_type": "stream",
     "text": [
      "No Alzheimers No Alzheimers No Alzheimers Alzheimers No Alzheimers No Alzheimers No Alzheimers No Alzheimers No Alzheimers Alzheimers\n"
     ]
    }
   ],
   "source": [
    "# Test how the images look\n",
    "\n",
    "# Function to show image\n",
    "def show_image(img):\n",
    "    img = img.numpy()\n",
    "    plt.imshow(np.transpose(img, (1, 2, 0)))\n",
    "    plt.show()\n",
    "\n",
    "iteration = iter(train_loader)\n",
    "images, labels = next(iteration)\n",
    "\n",
    "show_image(torchvision.utils.make_grid(images))\n",
    "classes = (\"No Alzheimers\", \"Alzheimers\")\n",
    "print(\" \".join('%5s' % classes[labels[j]] for j in range(10)))\n"
   ]
  },
  {
   "cell_type": "markdown",
   "metadata": {},
   "source": [
    "# Model Implementation"
   ]
  },
  {
   "cell_type": "markdown",
   "metadata": {},
   "source": [
    "### Implement ResidualBlock Class"
   ]
  },
  {
   "cell_type": "code",
   "execution_count": 10,
   "metadata": {},
   "outputs": [],
   "source": [
    "class AlzheimersResNet(nn.Module):\n",
    "    def __init__(self):\n",
    "        super(AlzheimersResNet, self).__init__()\n",
    "        self.model = model.resnet18(pretrained=False)\n",
    "        "
   ]
  },
  {
   "cell_type": "code",
   "execution_count": null,
   "metadata": {},
   "outputs": [],
   "source": []
  }
 ],
 "metadata": {
  "kernelspec": {
   "display_name": "base",
   "language": "python",
   "name": "python3"
  },
  "language_info": {
   "codemirror_mode": {
    "name": "ipython",
    "version": 3
   },
   "file_extension": ".py",
   "mimetype": "text/x-python",
   "name": "python",
   "nbconvert_exporter": "python",
   "pygments_lexer": "ipython3",
   "version": "3.12.8"
  }
 },
 "nbformat": 4,
 "nbformat_minor": 2
}
