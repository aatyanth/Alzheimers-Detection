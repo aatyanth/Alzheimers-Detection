{
 "cells": [
  {
   "cell_type": "code",
   "execution_count": 1,
   "metadata": {},
   "outputs": [],
   "source": [
    "import torch\n",
    "import torch.nn as nn\n",
    "import torch.nn.functional as F\n",
    "import torch.optim as optim\n",
    "import torchvision\n",
    "import numpy as np\n",
    "import pandas as pd\n",
    "import os\n",
    "import matplotlib.pyplot as plt"
   ]
  },
  {
   "cell_type": "markdown",
   "metadata": {},
   "source": [
    "# Data Preparation"
   ]
  },
  {
   "cell_type": "markdown",
   "metadata": {},
   "source": [
    "### Create dataset"
   ]
  },
  {
   "cell_type": "code",
   "execution_count": 2,
   "metadata": {},
   "outputs": [
    {
     "data": {
      "text/html": [
       "<div>\n",
       "<style scoped>\n",
       "    .dataframe tbody tr th:only-of-type {\n",
       "        vertical-align: middle;\n",
       "    }\n",
       "\n",
       "    .dataframe tbody tr th {\n",
       "        vertical-align: top;\n",
       "    }\n",
       "\n",
       "    .dataframe thead th {\n",
       "        text-align: right;\n",
       "    }\n",
       "</style>\n",
       "<table border=\"1\" class=\"dataframe\">\n",
       "  <thead>\n",
       "    <tr style=\"text-align: right;\">\n",
       "      <th></th>\n",
       "      <th>patient_id</th>\n",
       "      <th>image_path</th>\n",
       "      <th>class_label</th>\n",
       "    </tr>\n",
       "  </thead>\n",
       "  <tbody>\n",
       "    <tr>\n",
       "      <th>0</th>\n",
       "      <td>0308</td>\n",
       "      <td>/data/Dementia/OAS1_0308_MR1_mpr-1_125.jpg</td>\n",
       "      <td>1</td>\n",
       "    </tr>\n",
       "    <tr>\n",
       "      <th>1</th>\n",
       "      <td>0351</td>\n",
       "      <td>/data/Dementia/OAS1_0351_MR1_mpr-3_112.jpg</td>\n",
       "      <td>1</td>\n",
       "    </tr>\n",
       "    <tr>\n",
       "      <th>2</th>\n",
       "      <td>0003</td>\n",
       "      <td>/data/Dementia/OAS1_0003_MR1_mpr-4_145.jpg</td>\n",
       "      <td>1</td>\n",
       "    </tr>\n",
       "    <tr>\n",
       "      <th>3</th>\n",
       "      <td>0003</td>\n",
       "      <td>/data/Dementia/OAS1_0003_MR1_mpr-4_151.jpg</td>\n",
       "      <td>1</td>\n",
       "    </tr>\n",
       "    <tr>\n",
       "      <th>4</th>\n",
       "      <td>0308</td>\n",
       "      <td>/data/Dementia/OAS1_0308_MR1_mpr-1_131.jpg</td>\n",
       "      <td>1</td>\n",
       "    </tr>\n",
       "    <tr>\n",
       "      <th>...</th>\n",
       "      <td>...</td>\n",
       "      <td>...</td>\n",
       "      <td>...</td>\n",
       "    </tr>\n",
       "    <tr>\n",
       "      <th>2924</th>\n",
       "      <td>0005</td>\n",
       "      <td>/data/No_Dementia/OAS1_0005_MR1_mpr-3_146.jpg</td>\n",
       "      <td>0</td>\n",
       "    </tr>\n",
       "    <tr>\n",
       "      <th>2925</th>\n",
       "      <td>0005</td>\n",
       "      <td>/data/No_Dementia/OAS1_0005_MR1_mpr-3_152.jpg</td>\n",
       "      <td>0</td>\n",
       "    </tr>\n",
       "    <tr>\n",
       "      <th>2926</th>\n",
       "      <td>0004</td>\n",
       "      <td>/data/No_Dementia/OAS1_0004_MR1_mpr-3_154.jpg</td>\n",
       "      <td>0</td>\n",
       "    </tr>\n",
       "    <tr>\n",
       "      <th>2927</th>\n",
       "      <td>0001</td>\n",
       "      <td>/data/No_Dementia/OAS1_0001_MR1_mpr-2_152.jpg</td>\n",
       "      <td>0</td>\n",
       "    </tr>\n",
       "    <tr>\n",
       "      <th>2928</th>\n",
       "      <td>0001</td>\n",
       "      <td>/data/No_Dementia/OAS1_0001_MR1_mpr-2_146.jpg</td>\n",
       "      <td>0</td>\n",
       "    </tr>\n",
       "  </tbody>\n",
       "</table>\n",
       "<p>2929 rows × 3 columns</p>\n",
       "</div>"
      ],
      "text/plain": [
       "     patient_id                                     image_path class_label\n",
       "0          0308     /data/Dementia/OAS1_0308_MR1_mpr-1_125.jpg           1\n",
       "1          0351     /data/Dementia/OAS1_0351_MR1_mpr-3_112.jpg           1\n",
       "2          0003     /data/Dementia/OAS1_0003_MR1_mpr-4_145.jpg           1\n",
       "3          0003     /data/Dementia/OAS1_0003_MR1_mpr-4_151.jpg           1\n",
       "4          0308     /data/Dementia/OAS1_0308_MR1_mpr-1_131.jpg           1\n",
       "...         ...                                            ...         ...\n",
       "2924       0005  /data/No_Dementia/OAS1_0005_MR1_mpr-3_146.jpg           0\n",
       "2925       0005  /data/No_Dementia/OAS1_0005_MR1_mpr-3_152.jpg           0\n",
       "2926       0004  /data/No_Dementia/OAS1_0004_MR1_mpr-3_154.jpg           0\n",
       "2927       0001  /data/No_Dementia/OAS1_0001_MR1_mpr-2_152.jpg           0\n",
       "2928       0001  /data/No_Dementia/OAS1_0001_MR1_mpr-2_146.jpg           0\n",
       "\n",
       "[2929 rows x 3 columns]"
      ]
     },
     "execution_count": 2,
     "metadata": {},
     "output_type": "execute_result"
    }
   ],
   "source": [
    "# Create datasets\n",
    "\n",
    "dementia_image_paths = os.listdir('/Users/aatyanth/COGS181/Alzheimers-Detection/data/Dementia')\n",
    "no_dementia_image_paths = os.listdir('/Users/aatyanth/COGS181/Alzheimers-Detection/data/No_Dementia')\n",
    "\n",
    "patient_ids = []\n",
    "class_labels = []\n",
    "image_paths = []\n",
    "prefix = '/data/Dementia/'\n",
    "\n",
    "for path in dementia_image_paths:\n",
    "    patient_ids.append(path.split('_')[1])\n",
    "    image_paths.append(prefix + path)\n",
    "    class_labels.append(1)\n",
    "\n",
    "prefix = '/data/No_Dementia/' \n",
    "for path in no_dementia_image_paths:\n",
    "    patient_ids.append(path.split('_')[1])\n",
    "    image_paths.append(prefix + path)\n",
    "    class_labels.append(0)\n",
    "\n",
    "df = pd.DataFrame([patient_ids, image_paths, class_labels]).transpose()\n",
    "df.columns = ['patient_id', 'image_path', 'class_label']\n",
    "df\n"
   ]
  },
  {
   "cell_type": "markdown",
   "metadata": {},
   "source": [
    "### Train-Test Split (based on random selection of patients done in data_exploration.ipynb)"
   ]
  },
  {
   "cell_type": "code",
   "execution_count": 3,
   "metadata": {},
   "outputs": [
    {
     "name": "stdout",
     "output_type": "stream",
     "text": [
      "1952\n",
      "976\n",
      "Train Ratio:  0.6664390576988733\n",
      "Test Ratio:  0.3332195288494367\n"
     ]
    }
   ],
   "source": [
    "train_df = df[df['patient_id'].isin(['0351', '0021', '0003', '0308', '0002', '0004', '0006', '0009'])]\n",
    "train_df = train_df.reset_index()\n",
    "print(len(train_df))\n",
    "\n",
    "test_df = df[df['patient_id'].isin(['0028', '0031', '0001', '0005'])]\n",
    "test_df = test_df.reset_index()\n",
    "print(len(test_df))\n",
    "\n",
    "print('Train Ratio: ', (len(train_df) / len(df)))\n",
    "print('Test Ratio: ', (len(test_df) / len(df)))"
   ]
  },
  {
   "cell_type": "markdown",
   "metadata": {},
   "source": [
    "# Data Pipeline"
   ]
  },
  {
   "cell_type": "markdown",
   "metadata": {},
   "source": [
    "### Defining Transforms"
   ]
  },
  {
   "cell_type": "code",
   "execution_count": 4,
   "metadata": {},
   "outputs": [],
   "source": [
    "# Importing the custom dataset class\n",
    "from alzheimers_dataset import alzheimers_dataset\n",
    "import torchvision.transforms as tf"
   ]
  },
  {
   "cell_type": "code",
   "execution_count": 5,
   "metadata": {},
   "outputs": [],
   "source": [
    "# Simple transforms for baseline model\n",
    "transforms = tf.Compose([\n",
    "    tf.Pad([0, 124,]),\n",
    "    tf.ToTensor(),\n",
    "    ])"
   ]
  },
  {
   "cell_type": "code",
   "execution_count": 19,
   "metadata": {},
   "outputs": [],
   "source": [
    "# Create datasets based on custom dataset class\n",
    "root_dir = '/Users/aatyanth/COGS181/Alzheimers-Detection'\n",
    "\n",
    "train_image_paths = train_df['image_path'].to_numpy()\n",
    "train_labels = train_df['class_label'].to_numpy()\n",
    "train_set = alzheimers_dataset(root_dir=root_dir, image_paths=train_image_paths, labels=train_labels, transform=transforms)\n",
    "test_image_paths = test_df['image_path'].to_numpy()\n",
    "test_labels = test_df['class_label'].to_numpy()\n",
    "test_set = alzheimers_dataset(root_dir=root_dir, image_paths=test_image_paths, labels=test_labels, transform=transforms)\n",
    "\n",
    "# Set up DataLoaders for train and test set\n",
    "train_loader = torch.utils.data.DataLoader(train_set, batch_size=10, shuffle=True, num_workers=2)\n",
    "test_loader = torch.utils.data.DataLoader(test_set, batch_size=10, shuffle=True, num_workers=2, drop_last=True)"
   ]
  },
  {
   "cell_type": "code",
   "execution_count": 20,
   "metadata": {},
   "outputs": [
    {
     "data": {
      "image/png": "[encoded data removed]",
      "text/plain": [
       "<Figure size 640x480 with 1 Axes>"
      ]
     },
     "metadata": {},
     "output_type": "display_data"
    },
    {
     "name": "stdout",
     "output_type": "stream",
     "text": [
      "No Alzheimers No Alzheimers Alzheimers Alzheimers Alzheimers No Alzheimers Alzheimers No Alzheimers No Alzheimers No Alzheimers\n"
     ]
    }
   ],
   "source": [
    "# Test how the images look\n",
    "\n",
    "# Function to show image\n",
    "def show_image(img):\n",
    "    img = img.numpy()\n",
    "    plt.imshow(np.transpose(img, (1, 2, 0)))\n",
    "    plt.show()\n",
    "\n",
    "iteration = iter(train_loader)\n",
    "images, labels = next(iteration)\n",
    "\n",
    "show_image(torchvision.utils.make_grid(images))\n",
    "classes = (\"No Alzheimers\", \"Alzheimers\")\n",
    "print(\" \".join('%5s' % classes[labels[j]] for j in range(10)))\n"
   ]
  },
  {
   "cell_type": "markdown",
   "metadata": {},
   "source": [
    "# Model Implementation"
   ]
  },
  {
   "cell_type": "markdown",
   "metadata": {},
   "source": [
    "### Implement AlzheimersNet Class"
   ]
  },
  {
   "cell_type": "code",
   "execution_count": 8,
   "metadata": {},
   "outputs": [],
   "source": [
    "class AlzheimersNet(nn.Module):\n",
    "    \n",
    "    def __init__(self):\n",
    "        super(AlzheimersNet, self).__init__()\n",
    "        \n",
    "        # Initializing Convolution Blocks\n",
    "        self.conv1 = nn.Conv2d(in_channels=1, out_channels=16, kernel_size=5, padding=2)\n",
    "        self.bn1 = nn.BatchNorm2d(num_features=16)\n",
    "        self.pool = nn.AvgPool2d(kernel_size=3, stride=3)\n",
    "        \n",
    "        self.conv2 = nn.Conv2d(in_channels=16, out_channels=32, kernel_size=5, padding=2)\n",
    "        self.bn2 = nn.BatchNorm2d(num_features=32)\n",
    "        \n",
    "        self.conv3 = nn.Conv2d(in_channels=32, out_channels=64, kernel_size=5, padding=2)\n",
    "        self.bn3 = nn.BatchNorm2d(num_features=64)\n",
    "        \n",
    "        \n",
    "        # Initializing Linear Layers\n",
    "        self.fc1 = nn.Linear(in_features=(64*18*18), out_features=512)\n",
    "        self.dropout = nn.Dropout()\n",
    "        \n",
    "        self.fc2 = nn.Linear(512, 256)\n",
    "        self.fc3 = nn.Linear(256, 128)\n",
    "        self.fc4 = nn.Linear(128, 2)\n",
    "    \n",
    "    def forward(self, x):\n",
    "        \n",
    "        # implement the convolution blocks\n",
    "        x = self.pool(F.relu(self.bn1(self.conv1(x))))\n",
    "        x = self.pool(F.relu(self.bn2(self.conv2(x))))\n",
    "        x = self.pool(F.relu(self.bn3(self.conv3(x))))\n",
    "        \n",
    "        # Flatten the layers\n",
    "        flattened = torch.flatten(x, start_dim=1)\n",
    "        # implement the fully connected network\n",
    "        x = F.relu(self.fc1(flattened))\n",
    "        x = F.relu(self.fc2(x))\n",
    "        x = F.relu(self.fc3(x))\n",
    "        \n",
    "        # Store the output of the FCN\n",
    "        output = F.relu(self.fc4(x))\n",
    "        \n",
    "        return output"
   ]
  },
  {
   "cell_type": "markdown",
   "metadata": {},
   "source": [
    "# Training Implementation"
   ]
  },
  {
   "cell_type": "code",
   "execution_count": 9,
   "metadata": {},
   "outputs": [
    {
     "data": {
      "text/plain": [
       "AlzheimersNet(\n",
       "  (conv1): Conv2d(1, 16, kernel_size=(5, 5), stride=(1, 1), padding=(2, 2))\n",
       "  (bn1): BatchNorm2d(16, eps=1e-05, momentum=0.1, affine=True, track_running_stats=True)\n",
       "  (pool): AvgPool2d(kernel_size=3, stride=3, padding=0)\n",
       "  (conv2): Conv2d(16, 32, kernel_size=(5, 5), stride=(1, 1), padding=(2, 2))\n",
       "  (bn2): BatchNorm2d(32, eps=1e-05, momentum=0.1, affine=True, track_running_stats=True)\n",
       "  (conv3): Conv2d(32, 64, kernel_size=(5, 5), stride=(1, 1), padding=(2, 2))\n",
       "  (bn3): BatchNorm2d(64, eps=1e-05, momentum=0.1, affine=True, track_running_stats=True)\n",
       "  (fc1): Linear(in_features=20736, out_features=512, bias=True)\n",
       "  (dropout): Dropout(p=0.5, inplace=False)\n",
       "  (fc2): Linear(in_features=512, out_features=256, bias=True)\n",
       "  (fc3): Linear(in_features=256, out_features=128, bias=True)\n",
       "  (fc4): Linear(in_features=128, out_features=2, bias=True)\n",
       ")"
      ]
     },
     "execution_count": 9,
     "metadata": {},
     "output_type": "execute_result"
    }
   ],
   "source": [
    "# Choose the device\n",
    "device = torch.device(\"cuda0\" if torch.cuda.is_available() else \"cpu\")\n",
    "\n",
    "# Create an instance of the Network\n",
    "cnn = AlzheimersNet()\n",
    "\n",
    "# Loss and optimizer to use\n",
    "loss_func = nn.CrossEntropyLoss()\n",
    "sgd = optim.SGD(cnn.parameters(), lr=0.001, momentum=0.9)\n",
    "\n",
    "# Moving network parameters to the chosen device\n",
    "cnn.to(device)"
   ]
  },
  {
   "cell_type": "code",
   "execution_count": 10,
   "metadata": {},
   "outputs": [
    {
     "name": "stderr",
     "output_type": "stream",
     "text": [
      "Training Completion:   0%|          | 0/5 [00:00<?, ?it/s]"
     ]
    },
    {
     "name": "stdout",
     "output_type": "stream",
     "text": [
      "[epoch: 0, i:     9] avg mini-batch loss: 0.690\n",
      "[epoch: 0, i:    19] avg mini-batch loss: 0.681\n",
      "[epoch: 0, i:    29] avg mini-batch loss: 0.671\n",
      "[epoch: 0, i:    39] avg mini-batch loss: 0.637\n",
      "[epoch: 0, i:    49] avg mini-batch loss: 0.611\n",
      "[epoch: 0, i:    59] avg mini-batch loss: 0.572\n",
      "[epoch: 0, i:    69] avg mini-batch loss: 0.506\n",
      "[epoch: 0, i:    79] avg mini-batch loss: 0.450\n",
      "[epoch: 0, i:    89] avg mini-batch loss: 0.403\n",
      "[epoch: 0, i:    99] avg mini-batch loss: 0.363\n",
      "[epoch: 0, i:   109] avg mini-batch loss: 0.247\n",
      "[epoch: 0, i:   119] avg mini-batch loss: 0.247\n",
      "[epoch: 0, i:   129] avg mini-batch loss: 0.212\n",
      "[epoch: 0, i:   139] avg mini-batch loss: 0.163\n",
      "[epoch: 0, i:   149] avg mini-batch loss: 0.145\n",
      "[epoch: 0, i:   159] avg mini-batch loss: 0.092\n",
      "[epoch: 0, i:   169] avg mini-batch loss: 0.103\n",
      "[epoch: 0, i:   179] avg mini-batch loss: 0.072\n",
      "[epoch: 0, i:   189] avg mini-batch loss: 0.090\n"
     ]
    },
    {
     "name": "stderr",
     "output_type": "stream",
     "text": [
      "Training Completion:  20%|██        | 1/5 [01:27<05:50, 87.57s/it]"
     ]
    },
    {
     "name": "stdout",
     "output_type": "stream",
     "text": [
      "[epoch: 1, i:     9] avg mini-batch loss: 0.035\n",
      "[epoch: 1, i:    19] avg mini-batch loss: 0.041\n",
      "[epoch: 1, i:    29] avg mini-batch loss: 0.073\n",
      "[epoch: 1, i:    39] avg mini-batch loss: 0.018\n",
      "[epoch: 1, i:    49] avg mini-batch loss: 0.046\n",
      "[epoch: 1, i:    59] avg mini-batch loss: 0.027\n",
      "[epoch: 1, i:    69] avg mini-batch loss: 0.013\n",
      "[epoch: 1, i:    79] avg mini-batch loss: 0.023\n",
      "[epoch: 1, i:    89] avg mini-batch loss: 0.011\n",
      "[epoch: 1, i:    99] avg mini-batch loss: 0.008\n",
      "[epoch: 1, i:   109] avg mini-batch loss: 0.010\n",
      "[epoch: 1, i:   119] avg mini-batch loss: 0.011\n",
      "[epoch: 1, i:   129] avg mini-batch loss: 0.008\n",
      "[epoch: 1, i:   139] avg mini-batch loss: 0.016\n",
      "[epoch: 1, i:   149] avg mini-batch loss: 0.010\n",
      "[epoch: 1, i:   159] avg mini-batch loss: 0.009\n",
      "[epoch: 1, i:   169] avg mini-batch loss: 0.004\n",
      "[epoch: 1, i:   179] avg mini-batch loss: 0.004\n",
      "[epoch: 1, i:   189] avg mini-batch loss: 0.005\n"
     ]
    },
    {
     "name": "stderr",
     "output_type": "stream",
     "text": [
      "Training Completion:  40%|████      | 2/5 [03:00<04:33, 91.01s/it]"
     ]
    },
    {
     "name": "stdout",
     "output_type": "stream",
     "text": [
      "[epoch: 2, i:     9] avg mini-batch loss: 0.004\n",
      "[epoch: 2, i:    19] avg mini-batch loss: 0.005\n",
      "[epoch: 2, i:    29] avg mini-batch loss: 0.003\n",
      "[epoch: 2, i:    39] avg mini-batch loss: 0.005\n",
      "[epoch: 2, i:    49] avg mini-batch loss: 0.008\n",
      "[epoch: 2, i:    59] avg mini-batch loss: 0.010\n",
      "[epoch: 2, i:    69] avg mini-batch loss: 0.003\n",
      "[epoch: 2, i:    79] avg mini-batch loss: 0.007\n",
      "[epoch: 2, i:    89] avg mini-batch loss: 0.004\n",
      "[epoch: 2, i:    99] avg mini-batch loss: 0.004\n",
      "[epoch: 2, i:   109] avg mini-batch loss: 0.004\n",
      "[epoch: 2, i:   119] avg mini-batch loss: 0.004\n",
      "[epoch: 2, i:   129] avg mini-batch loss: 0.002\n",
      "[epoch: 2, i:   139] avg mini-batch loss: 0.003\n",
      "[epoch: 2, i:   149] avg mini-batch loss: 0.002\n",
      "[epoch: 2, i:   159] avg mini-batch loss: 0.002\n",
      "[epoch: 2, i:   169] avg mini-batch loss: 0.006\n",
      "[epoch: 2, i:   179] avg mini-batch loss: 0.004\n",
      "[epoch: 2, i:   189] avg mini-batch loss: 0.002\n"
     ]
    },
    {
     "name": "stderr",
     "output_type": "stream",
     "text": [
      "Training Completion:  60%|██████    | 3/5 [04:26<02:56, 88.45s/it]"
     ]
    },
    {
     "name": "stdout",
     "output_type": "stream",
     "text": [
      "[epoch: 3, i:     9] avg mini-batch loss: 0.003\n",
      "[epoch: 3, i:    19] avg mini-batch loss: 0.002\n",
      "[epoch: 3, i:    29] avg mini-batch loss: 0.002\n",
      "[epoch: 3, i:    39] avg mini-batch loss: 0.001\n",
      "[epoch: 3, i:    49] avg mini-batch loss: 0.002\n",
      "[epoch: 3, i:    59] avg mini-batch loss: 0.002\n",
      "[epoch: 3, i:    69] avg mini-batch loss: 0.001\n",
      "[epoch: 3, i:    79] avg mini-batch loss: 0.003\n",
      "[epoch: 3, i:    89] avg mini-batch loss: 0.002\n",
      "[epoch: 3, i:    99] avg mini-batch loss: 0.002\n",
      "[epoch: 3, i:   109] avg mini-batch loss: 0.002\n",
      "[epoch: 3, i:   119] avg mini-batch loss: 0.002\n",
      "[epoch: 3, i:   129] avg mini-batch loss: 0.001\n",
      "[epoch: 3, i:   139] avg mini-batch loss: 0.001\n",
      "[epoch: 3, i:   149] avg mini-batch loss: 0.001\n",
      "[epoch: 3, i:   159] avg mini-batch loss: 0.001\n",
      "[epoch: 3, i:   169] avg mini-batch loss: 0.003\n",
      "[epoch: 3, i:   179] avg mini-batch loss: 0.001\n",
      "[epoch: 3, i:   189] avg mini-batch loss: 0.001\n"
     ]
    },
    {
     "name": "stderr",
     "output_type": "stream",
     "text": [
      "Training Completion:  80%|████████  | 4/5 [05:55<01:28, 88.61s/it]"
     ]
    },
    {
     "name": "stdout",
     "output_type": "stream",
     "text": [
      "[epoch: 4, i:     9] avg mini-batch loss: 0.002\n",
      "[epoch: 4, i:    19] avg mini-batch loss: 0.002\n",
      "[epoch: 4, i:    29] avg mini-batch loss: 0.002\n",
      "[epoch: 4, i:    39] avg mini-batch loss: 0.002\n",
      "[epoch: 4, i:    49] avg mini-batch loss: 0.001\n",
      "[epoch: 4, i:    59] avg mini-batch loss: 0.001\n",
      "[epoch: 4, i:    69] avg mini-batch loss: 0.001\n",
      "[epoch: 4, i:    79] avg mini-batch loss: 0.001\n",
      "[epoch: 4, i:    89] avg mini-batch loss: 0.001\n",
      "[epoch: 4, i:    99] avg mini-batch loss: 0.001\n",
      "[epoch: 4, i:   109] avg mini-batch loss: 0.001\n",
      "[epoch: 4, i:   119] avg mini-batch loss: 0.001\n",
      "[epoch: 4, i:   129] avg mini-batch loss: 0.001\n",
      "[epoch: 4, i:   139] avg mini-batch loss: 0.001\n",
      "[epoch: 4, i:   149] avg mini-batch loss: 0.001\n",
      "[epoch: 4, i:   159] avg mini-batch loss: 0.002\n",
      "[epoch: 4, i:   169] avg mini-batch loss: 0.002\n",
      "[epoch: 4, i:   179] avg mini-batch loss: 0.001\n",
      "[epoch: 4, i:   189] avg mini-batch loss: 0.001\n"
     ]
    },
    {
     "name": "stderr",
     "output_type": "stream",
     "text": [
      "Training Completion: 100%|██████████| 5/5 [07:23<00:00, 88.70s/it]"
     ]
    },
    {
     "name": "stdout",
     "output_type": "stream",
     "text": [
      "Training Complete.\n"
     ]
    },
    {
     "name": "stderr",
     "output_type": "stream",
     "text": [
      "\n"
     ]
    }
   ],
   "source": [
    "from tqdm import tqdm\n",
    "# Training Procedure\n",
    "\n",
    "avg_losses = []\n",
    "epochs = 5\n",
    "print_freq = 10\n",
    "predictions_list = []\n",
    "\n",
    "for epoch in tqdm(range(epochs), desc=\"Training Completion\"):\n",
    "    running_loss = 0.0\n",
    "    for batch, data in enumerate(train_loader, 0):\n",
    "        \n",
    "        inputs, labels = data\n",
    "        \n",
    "        inputs, labels = inputs.to(device), labels.to(device)\n",
    "        \n",
    "        # Zeroing the gradients\n",
    "        sgd.zero_grad()\n",
    "        \n",
    "        # Generate predictions\n",
    "        outputs = cnn(inputs)\n",
    "        \n",
    "        # Compute loss based on predictions and ground truth\n",
    "        loss = loss_func(outputs, labels)\n",
    "        \n",
    "        # Take backwards step\n",
    "        loss.backward()\n",
    "        \n",
    "        # Update the network parameters\n",
    "        sgd.step()\n",
    "        \n",
    "        running_loss += loss.item()\n",
    "        \n",
    "        if batch % print_freq == print_freq - 1:\n",
    "            avg_loss = running_loss / print_freq\n",
    "            print('[epoch: {}, i: {:5d}] avg mini-batch loss: {:.3f}'.format(\n",
    "                epoch, batch, avg_loss))\n",
    "            avg_losses.append(avg_loss)\n",
    "            running_loss = 0.0\n",
    "\n",
    "print('Training Complete.')"
   ]
  },
  {
   "cell_type": "markdown",
   "metadata": {},
   "source": [
    "### Training Loss Curve"
   ]
  },
  {
   "cell_type": "code",
   "execution_count": 11,
   "metadata": {},
   "outputs": [
    {
     "data": {
      "image/png": "[encoded data removed]",
      "text/plain": [
       "<Figure size 640x480 with 1 Axes>"
      ]
     },
     "metadata": {},
     "output_type": "display_data"
    }
   ],
   "source": [
    "plt.plot(avg_losses)\n",
    "plt.xlabel(\"Batch number\")\n",
    "plt.ylabel(\"Average mini-batch loss\")\n",
    "plt.show()"
   ]
  },
  {
   "cell_type": "markdown",
   "metadata": {},
   "source": [
    "# Evaluation"
   ]
  },
  {
   "cell_type": "code",
   "execution_count": 21,
   "metadata": {},
   "outputs": [
    {
     "name": "stdout",
     "output_type": "stream",
     "text": [
      "Accuracy of the Network on Test Data:  69.58762886597938\n"
     ]
    }
   ],
   "source": [
    "# Test Accuracy\n",
    "\n",
    "total_samples = 0\n",
    "correct_predictions = 0\n",
    "\n",
    "with torch.no_grad():\n",
    "    for data in test_loader:\n",
    "        inputs, labels = data\n",
    "        \n",
    "        inputs, labels = inputs.to(device), labels.to(device)\n",
    "        \n",
    "        outputs = cnn(inputs)\n",
    "        \n",
    "        _, predicted = torch.max(outputs.data, 1)\n",
    "        \n",
    "        total_samples += labels.size(0)\n",
    "        \n",
    "        correct_predictions += (predicted == labels).sum().item()\n",
    "        \n",
    "        \n",
    "\n",
    "print(\"Accuracy of the Network on Test Data: \", (100 * (correct_predictions/total_samples)))"
   ]
  },
  {
   "cell_type": "code",
   "execution_count": 22,
   "metadata": {},
   "outputs": [
    {
     "data": {
      "image/png": "[encoded data removed]",
      "text/plain": [
       "<Figure size 640x480 with 1 Axes>"
      ]
     },
     "metadata": {},
     "output_type": "display_data"
    },
    {
     "name": "stdout",
     "output_type": "stream",
     "text": [
      "Predictions:  Alzheimers Alzheimers No Alzheimers Alzheimers Alzheimers Alzheimers No Alzheimers No Alzheimers No Alzheimers Alzheimers\n",
      "Ground Truth:  Alzheimers No Alzheimers Alzheimers Alzheimers Alzheimers No Alzheimers No Alzheimers No Alzheimers No Alzheimers Alzheimers\n"
     ]
    }
   ],
   "source": [
    "# Visualize a few predictions\n",
    "iteration = iter(test_loader)\n",
    "images, labels = next(iteration)\n",
    "images, labels = next(iteration)\n",
    "show_image(torchvision.utils.make_grid(images))\n",
    "outputs = cnn(images.to(device))\n",
    "_, predictions = torch.max(outputs.data, 1)\n",
    "classes = (\"No Alzheimers\", \"Alzheimers\")\n",
    "print(\"Predictions: \", \" \".join('%5s' % classes[predictions[i]] for i in range(10)))\n",
    "print(\"Ground Truth: \", \" \".join('%5s' % classes[labels[j]] for j in range(10)))"
   ]
  },
  {
   "cell_type": "code",
   "execution_count": 24,
   "metadata": {},
   "outputs": [
    {
     "name": "stdout",
     "output_type": "stream",
     "text": [
      "Accuracy of No Alzheimers : 49 %\n",
      "Accuracy of Alzheimers : 89 %\n"
     ]
    }
   ],
   "source": [
    "# Get test accuracy for each class.\n",
    "class_correct = list(0. for i in range(2))\n",
    "class_total = list(0. for i in range(2))\n",
    "with torch.no_grad():\n",
    "    for data in test_loader:\n",
    "        images, labels = data\n",
    "        images, labels = images.to(device), labels.to(device)\n",
    "        outputs = cnn(images)\n",
    "        _, predicted = torch.max(outputs, 1)\n",
    "        c = (predicted == labels).squeeze()\n",
    "        for i in range(10):\n",
    "            label = labels[i]\n",
    "            class_correct[label] += c[i].item()\n",
    "            class_total[label] += 1\n",
    "\n",
    "for i in range(2):\n",
    "    print('Accuracy of %5s : %2d %%' % (\n",
    "        classes[i], 100 * class_correct[i] / class_total[i]))"
   ]
  }
 ],
 "metadata": {
  "kernelspec": {
   "display_name": "base",
   "language": "python",
   "name": "python3"
  },
  "language_info": {
   "codemirror_mode": {
    "name": "ipython",
    "version": 3
   },
   "file_extension": ".py",
   "mimetype": "text/x-python",
   "name": "python",
   "nbconvert_exporter": "python",
   "pygments_lexer": "ipython3",
   "version": "3.12.8"
  }
 },
 "nbformat": 4,
 "nbformat_minor": 2
}
